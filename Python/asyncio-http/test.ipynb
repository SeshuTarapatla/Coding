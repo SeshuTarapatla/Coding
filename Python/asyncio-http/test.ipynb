{
 "cells": [
  {
   "cell_type": "code",
   "execution_count": 1,
   "id": "fc885955",
   "metadata": {},
   "outputs": [],
   "source": [
    "a = 8.10460638999939\n",
    "b = 1.5350894927978516"
   ]
  },
  {
   "cell_type": "code",
   "execution_count": 6,
   "id": "2b169b1e",
   "metadata": {},
   "outputs": [
    {
     "data": {
      "text/plain": [
       "527.9566063101603"
      ]
     },
     "execution_count": 6,
     "metadata": {},
     "output_type": "execute_result"
    }
   ],
   "source": [
    "(a/b)*100"
   ]
  },
  {
   "cell_type": "code",
   "execution_count": null,
   "id": "223ab70e",
   "metadata": {},
   "outputs": [],
   "source": []
  }
 ],
 "metadata": {
  "kernelspec": {
   "display_name": ".venv",
   "language": "python",
   "name": "python3"
  },
  "language_info": {
   "codemirror_mode": {
    "name": "ipython",
    "version": 3
   },
   "file_extension": ".py",
   "mimetype": "text/x-python",
   "name": "python",
   "nbconvert_exporter": "python",
   "pygments_lexer": "ipython3",
   "version": "3.12.9"
  }
 },
 "nbformat": 4,
 "nbformat_minor": 5
}
