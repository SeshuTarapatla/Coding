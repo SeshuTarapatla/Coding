{
 "cells": [
  {
   "cell_type": "code",
   "execution_count": 2,
   "metadata": {},
   "outputs": [
    {
     "name": "stdout",
     "output_type": "stream",
     "text": [
      "___satya.__hhhhhh______\r"
     ]
    }
   ],
   "source": [
    "from pytesseract import image_to_string\n",
    "from send2trash import send2trash\n",
    "from pathlib import Path\n",
    "from PIL import Image\n",
    "\n",
    "saved_users_dir = Path(\"Profiles/Users/Saved_users\")\n",
    "follow_dir = Path(\"Profiles/Follow\")\n",
    "for file in follow_dir.iterdir():\n",
    "    img = Image.open(file)\n",
    "    print(f\"{file.stem}\", end=\"\\r\")\n",
    "    if \"Requested\" in image_to_string(img):\n",
    "        print(f\"{file.stem} > deleted\")\n",
    "        send2trash(file)"
   ]
  },
  {
   "cell_type": "code",
   "execution_count": null,
   "metadata": {},
   "outputs": [
    {
     "name": "stdout",
     "output_type": "stream",
     "text": [
      "Hello wolrd\n"
     ]
    }
   ],
   "source": []
  },
  {
   "cell_type": "code",
   "execution_count": null,
   "metadata": {},
   "outputs": [],
   "source": []
  }
 ],
 "metadata": {
  "kernelspec": {
   "display_name": "Python 3",
   "language": "python",
   "name": "python3"
  },
  "language_info": {
   "codemirror_mode": {
    "name": "ipython",
    "version": 3
   },
   "file_extension": ".py",
   "mimetype": "text/x-python",
   "name": "python",
   "nbconvert_exporter": "python",
   "pygments_lexer": "ipython3",
   "version": "3.12.7"
  }
 },
 "nbformat": 4,
 "nbformat_minor": 2
}
