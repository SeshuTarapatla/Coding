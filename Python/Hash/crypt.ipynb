{
 "cells": [
  {
   "cell_type": "code",
   "execution_count": 45,
   "metadata": {},
   "outputs": [],
   "source": [
    "from base64 import urlsafe_b64encode\n",
    "from hashlib import sha256\n",
    "from cryptography.fernet import Fernet\n",
    "from pathlib import Path"
   ]
  },
  {
   "cell_type": "code",
   "execution_count": 46,
   "metadata": {},
   "outputs": [],
   "source": [
    "class Cipher:\n",
    "    def __init__(self, password: str) -> None:\n",
    "        self.password = password\n",
    "        self.key = urlsafe_b64encode(sha256(password.encode()).digest())\n",
    "        self.cipher = Fernet(self.key)\n",
    "    \n",
    "    def encrypt(self, message: str) -> str:\n",
    "        return self.cipher.encrypt(message.encode()).decode()\n",
    "\n",
    "    def decrypt(self, token: str) -> str:\n",
    "        return self.cipher.decrypt(token.encode()).decode()"
   ]
  },
  {
   "cell_type": "code",
   "execution_count": 47,
   "metadata": {},
   "outputs": [],
   "source": [
    "cipher = Cipher(\"19216821810128324630\")"
   ]
  },
  {
   "cell_type": "code",
   "execution_count": 48,
   "metadata": {},
   "outputs": [
    {
     "name": "stdout",
     "output_type": "stream",
     "text": [
      "SAVE YOUR BACKUP CODES\n",
      "Keep these backup codes somewhere safe but accessible.\n",
      "\n",
      "1. 3821 5265\t\t 6. 7726 6995\n",
      "2. 3409 8297\t\t 7. 6643 8805\n",
      "3. 7618 5867\t\t 8. 7161 0737\n",
      "4. 3099 9031\t\t 9. 5548 2555\n",
      "5. 3858 8480\t\t10. 6862 0813\n",
      "\n",
      "(seshu80743@gmail.com)\n",
      "\n",
      "* You can only use each backup code once.\n",
      "* Need more? Visit https://g.co/2sv\n",
      "* These codes were generated on: Mar 31, 2025.\n"
     ]
    }
   ],
   "source": [
    "message = Path(r\"C:\\Users\\seshu\\Downloads\\Backup-codes-seshu80743.txt\").read_text()\n",
    "print(message)"
   ]
  },
  {
   "cell_type": "code",
   "execution_count": 49,
   "metadata": {},
   "outputs": [
    {
     "name": "stdout",
     "output_type": "stream",
     "text": [
      "gAAAAABn6ZgkNCEcppSt_Iq0znCOBJ3nImCEz8eJ8Ds-6SM_U4MrMSMJYZ4gFkK5pwyoSO-57mKjOeS7OsjYp7M7RivzDFOe5GaUMoNb7l_kXSQz_lH8rBF33vercsBUNYKwUOgCIqLPW2CyvIXoCE5KgdRLNQPxLtkqgapqzPkfvppQv116XMGuQp9S6yLx7fp7znEJ17p3igPOhzW4e-glp5kWOpafh1liAILvGJGjs4qqtccZugE7LFvi5Aht-9jCUzdRPt043qhjUCxe5bjF60R6k3ayCKPIwxf3xp-divWfIrgu7uFy8f6vJToY4ONy9501M1iCpwbS1R66hX6XDbTdxLhyllh91B5olgqXbUbwDTP1j5PobcApG474QGwRQjkVbZNI1rAxaWzWpw3rMlNSf0V2S-iDB3kRoxtBqWAsxkwhwNLEvYXk7R4oCM_Ui6MyPL1uDM3QuuqbhtdAGlwLVe-6_7ZLewH32t5_Rhh6wbIVEdml7JrSXj_U1oQdZBvIKV5rYd9J1J85qr-J1v-56YO384Oo0aNpMQYQE4MwmSGEBQyOWmtf-F7ima4tAsEGVPJz\n"
     ]
    }
   ],
   "source": [
    "token = cipher.encrypt(message)\n",
    "print(token)"
   ]
  },
  {
   "cell_type": "code",
   "execution_count": 50,
   "metadata": {},
   "outputs": [
    {
     "name": "stdout",
     "output_type": "stream",
     "text": [
      "SAVE YOUR BACKUP CODES\n",
      "Keep these backup codes somewhere safe but accessible.\n",
      "\n",
      "1. 3821 5265\t\t 6. 7726 6995\n",
      "2. 3409 8297\t\t 7. 6643 8805\n",
      "3. 7618 5867\t\t 8. 7161 0737\n",
      "4. 3099 9031\t\t 9. 5548 2555\n",
      "5. 3858 8480\t\t10. 6862 0813\n",
      "\n",
      "(seshu80743@gmail.com)\n",
      "\n",
      "* You can only use each backup code once.\n",
      "* Need more? Visit https://g.co/2sv\n",
      "* These codes were generated on: Mar 31, 2025.\n"
     ]
    }
   ],
   "source": [
    "output = cipher.decrypt(token)\n",
    "print(output)"
   ]
  },
  {
   "cell_type": "code",
   "execution_count": null,
   "metadata": {},
   "outputs": [],
   "source": []
  },
  {
   "cell_type": "code",
   "execution_count": null,
   "metadata": {},
   "outputs": [],
   "source": []
  }
 ],
 "metadata": {
  "kernelspec": {
   "display_name": ".venv",
   "language": "python",
   "name": "python3"
  },
  "language_info": {
   "codemirror_mode": {
    "name": "ipython",
    "version": 3
   },
   "file_extension": ".py",
   "mimetype": "text/x-python",
   "name": "python",
   "nbconvert_exporter": "python",
   "pygments_lexer": "ipython3",
   "version": "3.12.9"
  }
 },
 "nbformat": 4,
 "nbformat_minor": 2
}
