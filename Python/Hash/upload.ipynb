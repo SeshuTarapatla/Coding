{
 "cells": [
  {
   "cell_type": "code",
   "execution_count": 83,
   "metadata": {},
   "outputs": [],
   "source": [
    "from pathlib import Path\n",
    "from shutil import move\n",
    "from pandas import Timestamp, read_sql\n",
    "from tqdm import tqdm\n",
    "from model import engine\n",
    "from humanize import naturalsize\n"
   ]
  },
  {
   "cell_type": "code",
   "execution_count": 84,
   "metadata": {},
   "outputs": [
    {
     "name": "stdout",
     "output_type": "stream",
     "text": [
      "Stage: REFRESH DB\n",
      "\n",
      "Loading current database: 63443 rows\n",
      "Creating dirs dataframe : 63442 rows\n",
      "\n",
      "New rows: 0 | Delete rows: 1\n",
      "Updating db\n",
      "Committing changes\n",
      "Stage complete\n"
     ]
    },
    {
     "name": "stderr",
     "output_type": "stream",
     "text": [
      "\n",
      "Adding new rows: 0files [00:00, ?files/s]\n",
      "Adding new rows: 0files [00:00, ?files/s]\n",
      "\n",
      "Remove old rows:   0%|          | 0/1 [00:00<?, ?files/s]\n",
      "Remove old rows: 100%|██████████| 1/1 [00:00<?, ?files/s]\n"
     ]
    }
   ],
   "source": [
    "! python -u refresh_db.py"
   ]
  },
  {
   "cell_type": "code",
   "execution_count": 85,
   "metadata": {},
   "outputs": [
    {
     "name": "stdout",
     "output_type": "stream",
     "text": [
      "(63442, 12)\n"
     ]
    }
   ],
   "source": [
    "def tag(row):\n",
    "    dt = row[\"exif_date\"] if type(row[\"exif_date\"]) == Timestamp else row[\"modify_date\"]\n",
    "    return str(dt)[:7]\n",
    "\n",
    "df = read_sql(\"google_photos\", con=engine)\n",
    "df[\"path\"] = df[\"path\"].apply(Path) #type: ignore\n",
    "df[\"tag\"] = df.apply(tag, axis=1)\n",
    "df.sort_values(by=\"tag\", inplace=True)\n",
    "print(df.shape)"
   ]
  },
  {
   "cell_type": "code",
   "execution_count": 86,
   "metadata": {},
   "outputs": [
    {
     "name": "stdout",
     "output_type": "stream",
     "text": [
      "tag='2018-01'\n",
      "Total: 201 | Size: 338.2 MB\n"
     ]
    }
   ],
   "source": [
    "tag = df.iloc[0][\"tag\"]\n",
    "print(f\"{tag=}\")\n",
    "part = df[df[\"tag\"] == tag]\n",
    "print(f\"Total: {len(part)} | Size: {naturalsize(sum(part[\"size\"]))}\")\n",
    "# print(part[\"filename\"].value_counts())"
   ]
  },
  {
   "cell_type": "code",
   "execution_count": 87,
   "metadata": {},
   "outputs": [
    {
     "name": "stderr",
     "output_type": "stream",
     "text": [
      "100%|██████████| 201/201 [00:00<00:00, 879.62it/s] \n"
     ]
    }
   ],
   "source": [
    "if (part[\"filename\"].value_counts().iloc[0] == 1):\n",
    "    root = Path(f\"upload/{tag}\")\n",
    "    root.mkdir(parents=True, exist_ok=True)\n",
    "    list(map(lambda file: move(file, root/file.name), tqdm(part[\"path\"])))\n",
    "else:\n",
    "    print(\"Duplicates found, handle themn.\")"
   ]
  },
  {
   "cell_type": "code",
   "execution_count": 88,
   "metadata": {},
   "outputs": [
    {
     "data": {
      "text/plain": [
       "filename\n",
       "B612_20180116_162206.jpg          1\n",
       "B612_20180112_140409.jpg          1\n",
       "IMG_20180116_165105.jpg           1\n",
       "IMG_20180115_182357.jpg           1\n",
       "IMG_20180116_170056.jpg           1\n",
       "                                 ..\n",
       "IMG_20180115_104712.jpg           1\n",
       "IMG_20180121_174837.jpg           1\n",
       "IMG_20180116_164921.jpg           1\n",
       "IMG_20180116_163425_BURST1.jpg    1\n",
       "IMG_20180115_120125.jpg           1\n",
       "Name: count, Length: 201, dtype: int64"
      ]
     },
     "execution_count": 88,
     "metadata": {},
     "output_type": "execute_result"
    }
   ],
   "source": [
    "part[\"filename\"].value_counts()"
   ]
  },
  {
   "cell_type": "code",
   "execution_count": null,
   "metadata": {},
   "outputs": [
    {
     "data": {
      "application/vnd.microsoft.datawrangler.viewer.v0+json": {
       "columns": [
        {
         "name": "index",
         "rawType": "int64",
         "type": "integer"
        },
        {
         "name": "filename",
         "rawType": "object",
         "type": "string"
        },
        {
         "name": "path",
         "rawType": "object",
         "type": "string"
        },
        {
         "name": "type",
         "rawType": "object",
         "type": "string"
        },
        {
         "name": "size",
         "rawType": "int64",
         "type": "integer"
        },
        {
         "name": "size_norm",
         "rawType": "object",
         "type": "string"
        },
        {
         "name": "media",
         "rawType": "object",
         "type": "string"
        },
        {
         "name": "modify_date",
         "rawType": "datetime64[ns]",
         "type": "datetime"
        },
        {
         "name": "exif_date",
         "rawType": "datetime64[ns]",
         "type": "datetime"
        },
        {
         "name": "file_hash",
         "rawType": "object",
         "type": "string"
        },
        {
         "name": "media_hash",
         "rawType": "object",
         "type": "string"
        },
        {
         "name": "exif_data",
         "rawType": "object",
         "type": "string"
        },
        {
         "name": "tag",
         "rawType": "object",
         "type": "string"
        }
       ],
       "conversionMethod": "pd.DataFrame",
       "ref": "d296a468-e97f-4d69-8dba-6d0dd35b928b",
       "rows": [],
       "shape": {
        "columns": 12,
        "rows": 0
       }
      },
      "text/html": [
       "<div>\n",
       "<style scoped>\n",
       "    .dataframe tbody tr th:only-of-type {\n",
       "        vertical-align: middle;\n",
       "    }\n",
       "\n",
       "    .dataframe tbody tr th {\n",
       "        vertical-align: top;\n",
       "    }\n",
       "\n",
       "    .dataframe thead th {\n",
       "        text-align: right;\n",
       "    }\n",
       "</style>\n",
       "<table border=\"1\" class=\"dataframe\">\n",
       "  <thead>\n",
       "    <tr style=\"text-align: right;\">\n",
       "      <th></th>\n",
       "      <th>filename</th>\n",
       "      <th>path</th>\n",
       "      <th>type</th>\n",
       "      <th>size</th>\n",
       "      <th>size_norm</th>\n",
       "      <th>media</th>\n",
       "      <th>modify_date</th>\n",
       "      <th>exif_date</th>\n",
       "      <th>file_hash</th>\n",
       "      <th>media_hash</th>\n",
       "      <th>exif_data</th>\n",
       "      <th>tag</th>\n",
       "    </tr>\n",
       "  </thead>\n",
       "  <tbody>\n",
       "  </tbody>\n",
       "</table>\n",
       "</div>"
      ],
      "text/plain": [
       "Empty DataFrame\n",
       "Columns: [filename, path, type, size, size_norm, media, modify_date, exif_date, file_hash, media_hash, exif_data, tag]\n",
       "Index: []"
      ]
     },
     "execution_count": 89,
     "metadata": {},
     "output_type": "execute_result"
    },
    {
     "ename": "",
     "evalue": "",
     "output_type": "error",
     "traceback": [
      "\u001b[1;31mThe Kernel crashed while executing code in the current cell or a previous cell. \n",
      "\u001b[1;31mPlease review the code in the cell(s) to identify a possible cause of the failure. \n",
      "\u001b[1;31mClick <a href='https://aka.ms/vscodeJupyterKernelCrash'>here</a> for more info. \n",
      "\u001b[1;31mView Jupyter <a href='command:jupyter.viewOutput'>log</a> for further details."
     ]
    }
   ],
   "source": [
    "part[part[\"filename\"] == \"IMG_20170926_154020.jpg\"]"
   ]
  },
  {
   "cell_type": "code",
   "execution_count": null,
   "metadata": {},
   "outputs": [],
   "source": []
  }
 ],
 "metadata": {
  "kernelspec": {
   "display_name": ".venv",
   "language": "python",
   "name": "python3"
  },
  "language_info": {
   "codemirror_mode": {
    "name": "ipython",
    "version": 3
   },
   "file_extension": ".py",
   "mimetype": "text/x-python",
   "name": "python",
   "nbconvert_exporter": "python",
   "pygments_lexer": "ipython3",
   "version": "3.12.9"
  }
 },
 "nbformat": 4,
 "nbformat_minor": 2
}
