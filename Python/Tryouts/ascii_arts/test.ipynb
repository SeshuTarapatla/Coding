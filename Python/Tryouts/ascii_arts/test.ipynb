{
 "cells": [
  {
   "cell_type": "code",
   "execution_count": 2,
   "metadata": {},
   "outputs": [],
   "source": [
    "import pyfiglet"
   ]
  },
  {
   "cell_type": "code",
   "execution_count": 9,
   "metadata": {},
   "outputs": [],
   "source": [
    "from pathlib import Path\n",
    "\n",
    "\n",
    "text_file = Path(\"output.txt\")"
   ]
  },
  {
   "cell_type": "code",
   "execution_count": 17,
   "metadata": {},
   "outputs": [],
   "source": [
    "data = [(font, pyfiglet.figlet_format(\"Insta Automate\", font)) for font in pyfiglet.FigletFont.getFonts()]"
   ]
  },
  {
   "cell_type": "code",
   "execution_count": 27,
   "metadata": {},
   "outputs": [],
   "source": [
    "with open(\"output.txt\", \"w\", encoding=\"utf-8\") as file:\n",
    "    for i,font in enumerate(pyfiglet.FigletFont.getFonts(), start=1):\n",
    "            file.write(f\"{i}. {font}:\\n{pyfiglet.figlet_format(\"Insta Automate\", font)}\\n\")"
   ]
  },
  {
   "cell_type": "code",
   "execution_count": 22,
   "metadata": {},
   "outputs": [
    {
     "data": {
      "text/plain": [
       "\" ___           _             _         _                        _       \\n|_ _|_ __  ___| |_ __ _     / \\\\  _   _| |_ ___  _ __ ___   __ _| |_ ___ \\n | || '_ \\\\/ __| __/ _` |   / _ \\\\| | | | __/ _ \\\\| '_ ` _ \\\\ / _` | __/ _ \\\\\\n | || | | \\\\__ \\\\ || (_| |  / ___ \\\\ |_| | || (_) | | | | | | (_| | ||  __/\\n|___|_| |_|___/\\\\__\\\\__,_| /_/   \\\\_\\\\__,_|\\\\__\\\\___/|_| |_| |_|\\\\__,_|\\\\__\\\\___|\\n                                                                        \\n\""
      ]
     },
     "execution_count": 22,
     "metadata": {},
     "output_type": "execute_result"
    }
   ],
   "source": [
    "pyfiglet.figlet_format(\"Insta Automate\")"
   ]
  },
  {
   "cell_type": "code",
   "execution_count": null,
   "metadata": {},
   "outputs": [],
   "source": []
  }
 ],
 "metadata": {
  "kernelspec": {
   "display_name": ".venv",
   "language": "python",
   "name": "python3"
  },
  "language_info": {
   "codemirror_mode": {
    "name": "ipython",
    "version": 3
   },
   "file_extension": ".py",
   "mimetype": "text/x-python",
   "name": "python",
   "nbconvert_exporter": "python",
   "pygments_lexer": "ipython3",
   "version": "3.12.9"
  }
 },
 "nbformat": 4,
 "nbformat_minor": 2
}
