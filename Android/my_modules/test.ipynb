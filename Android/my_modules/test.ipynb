{
 "cells": [
  {
   "cell_type": "code",
   "execution_count": 25,
   "id": "9d3b9386",
   "metadata": {},
   "outputs": [
    {
     "data": {
      "text/plain": [
       "<module 'pygetwindow' from 'd:\\\\Coding\\\\Android\\\\my_modules\\\\.venv\\\\Lib\\\\site-packages\\\\pygetwindow\\\\__init__.py'>"
      ]
     },
     "execution_count": 25,
     "metadata": {},
     "output_type": "execute_result"
    }
   ],
   "source": [
    "import pygetwindow\n",
    "\n",
    "\n",
    "pygetwindow"
   ]
  },
  {
   "cell_type": "code",
   "execution_count": 26,
   "id": "275a8567",
   "metadata": {},
   "outputs": [
    {
     "data": {
      "text/plain": [
       "Box(left=1244, top=0, width=457, height=1025)"
      ]
     },
     "execution_count": 26,
     "metadata": {},
     "output_type": "execute_result"
    }
   ],
   "source": [
    "a = pygetwindow.getWindowsWithTitle(\"Android Emulator\")[0]\n",
    "a.box"
   ]
  },
  {
   "cell_type": "code",
   "execution_count": 27,
   "id": "3627b7a9",
   "metadata": {},
   "outputs": [
    {
     "data": {
      "text/plain": [
       "True"
      ]
     },
     "execution_count": 27,
     "metadata": {},
     "output_type": "execute_result"
    }
   ],
   "source": [
    "a.box == (1244, 0, 457, 1025)"
   ]
  },
  {
   "cell_type": "code",
   "execution_count": null,
   "id": "d59357f0",
   "metadata": {},
   "outputs": [],
   "source": []
  }
 ],
 "metadata": {
  "kernelspec": {
   "display_name": ".venv",
   "language": "python",
   "name": "python3"
  },
  "language_info": {
   "codemirror_mode": {
    "name": "ipython",
    "version": 3
   },
   "file_extension": ".py",
   "mimetype": "text/x-python",
   "name": "python",
   "nbconvert_exporter": "python",
   "pygments_lexer": "ipython3",
   "version": "3.12.9"
  }
 },
 "nbformat": 4,
 "nbformat_minor": 5
}
