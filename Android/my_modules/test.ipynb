{
 "cells": [
  {
   "cell_type": "code",
   "execution_count": 5,
   "id": "2d784e4a",
   "metadata": {},
   "outputs": [
    {
     "data": {
      "text/plain": [
       "{'password': 'MjgzMjQ2MzA=', 'username': 'c2VzaHU='}"
      ]
     },
     "execution_count": 5,
     "metadata": {},
     "output_type": "execute_result"
    }
   ],
   "source": [
    "from my_modules.kubernetes import get_json\n",
    "\n",
    "\n",
    "data = get_json(\"postgres-auth-secret\", \"secret\")\n",
    "data"
   ]
  },
  {
   "cell_type": "code",
   "execution_count": 12,
   "id": "97d676f6",
   "metadata": {},
   "outputs": [
    {
     "data": {
      "text/plain": [
       "{'password': '28324630', 'username': 'seshu'}"
      ]
     },
     "execution_count": 12,
     "metadata": {},
     "output_type": "execute_result"
    }
   ],
   "source": [
    "from base64 import b64decode\n",
    "\n",
    "\n",
    "{key: b64decode(value.encode()).decode() for key, value in data.items()}"
   ]
  },
  {
   "cell_type": "code",
   "execution_count": 11,
   "id": "e90ddacd",
   "metadata": {},
   "outputs": [
    {
     "data": {
      "text/plain": [
       "'28324630'"
      ]
     },
     "execution_count": 11,
     "metadata": {},
     "output_type": "execute_result"
    }
   ],
   "source": [
    "from base64 import b64decode\n",
    "\n",
    "\n",
    "b64decode(data[\"password\"].encode()).decode()"
   ]
  },
  {
   "cell_type": "code",
   "execution_count": null,
   "id": "602180f5",
   "metadata": {},
   "outputs": [],
   "source": []
  }
 ],
 "metadata": {
  "kernelspec": {
   "display_name": ".venv",
   "language": "python",
   "name": "python3"
  },
  "language_info": {
   "codemirror_mode": {
    "name": "ipython",
    "version": 3
   },
   "file_extension": ".py",
   "mimetype": "text/x-python",
   "name": "python",
   "nbconvert_exporter": "python",
   "pygments_lexer": "ipython3",
   "version": "3.12.9"
  }
 },
 "nbformat": 4,
 "nbformat_minor": 5
}
